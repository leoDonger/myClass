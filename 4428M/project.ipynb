{
 "cells": [
  {
   "cell_type": "markdown",
   "metadata": {},
   "source": [
    "# Invectment project"
   ]
  },
  {
   "cell_type": "code",
   "execution_count": 11,
   "metadata": {},
   "outputs": [],
   "source": [
    "# import all dependencies and necessary libraries\n",
    "import sympy as sp\n",
    "import numpy as np\n",
    "import matplotlib.pyplot as plt\n",
    "from scipy.optimize import linprog\n",
    "from scipy.optimize import minimize\n",
    "# from scipy.optimize import linprog as sim"
   ]
  },
  {
   "cell_type": "markdown",
   "metadata": {},
   "source": [
    "# Step 1: Mathematicalization\n",
    "\n",
    "## Variables:\n",
    "- **I**: Initial balance ($) = 40,000\n",
    "- **A**: Yearly return in savings accounts = 0.07\n",
    "- **M**: Yearly return on municipal bonds = 0.09\n",
    "- **S**: Yearly return on stocks = 0.14\n",
    "- **R**: Yearly return ($)\n",
    "- **P**: Investment in stocks ($)\n",
    "- **B**: Investment in bonds ($)\n",
    "- **L**: Investment in a savings account ($)\n",
    "\n",
    "## Assumptions:\n",
    "- **R** (yearly return) = A x L + M x B + S x P = 0.07 x L + 0.09 x B + 0.14 x P\n",
    "- 5000 ≤ **R** (yearly return)\n",
    "- 10,000 ≤ **P** (stock investment)\n",
    "- **P** ≤ **B** + **L**\n",
    "- 5000 ≤ **L** ≤ 15000\n",
    "- **P** + **B** + **L** ≤ 40,000\n",
    "\n",
    "## Objective:\n",
    "- Maximize R"
   ]
  },
  {
   "cell_type": "markdown",
   "metadata": {},
   "source": [
    "# Step 2: Modeling Approach\n",
    "\n",
    "Since this is a multivariable optimization problem with multiple constraints, we chose to use Linear Programming and Simplex Method to solve this problem."
   ]
  },
  {
   "cell_type": "markdown",
   "metadata": {},
   "source": [
    "# Step 3: Formulate the Model"
   ]
  },
  {
   "cell_type": "code",
   "execution_count": null,
   "metadata": {},
   "outputs": [],
   "source": [
    "# non-constant variables\n",
    "I, R = sp.symbols('I R') \n",
    "P, B, L = sp.symbols('P B L')\n",
    "\n",
    "# constraints  \n",
    "λ1, λ2, λ3, λ4, λ5 = sp.symbols('λ1 λ2 λ3 λ4 λ5')\n",
    "R = 0.07 * L + 0.09 * B + 0.14 * P"
   ]
  },
  {
   "cell_type": "code",
   "execution_count": 21,
   "metadata": {},
   "outputs": [
    {
     "name": "stdout",
     "output_type": "stream",
     "text": [
      "Optimization was successful\n",
      "Savings (s) = $5,000.00\n",
      "Bonds (b) = $0.00\n",
      "Stocks (k) = $35,000.00\n",
      "Total Return = $5,250.00\n"
     ]
    }
   ],
   "source": [
    "# Negative because linprog does minimization\n",
    "c = [-0.07, -0.09, -0.14]\n",
    "\n",
    "A = [\n",
    "    # [-0.07, -0.09, -0.14],  # Return at least $5000\n",
    "    # [0, 0, -1],             # At least $10000 in stocks\n",
    "    [1, 1, -1],             # Stocks <= savings + bonds\n",
    "    # [1, 0, 0],              # Savings at least $5000 (lower bound handled by bounds)\n",
    "    # [1, 0, 0],              # Savings at most $15000 (upper bound handled by bounds)\n",
    "    [1, 1, 1]               # Total investment <= $40000\n",
    "]\n",
    "\n",
    "b = [\n",
    "    # -5000,  # Return at least $5000\n",
    "    # -10000, # At least $10000 in stocks\n",
    "    0,      # Stocks <= savings + bonds\n",
    "    # -5000,  # Savings at least $5000\n",
    "    # 15000,  # Savings at most $15000 (This will be handled by bounds)\n",
    "    40000   # Total investment <= $40000\n",
    "]\n",
    "\n",
    "# Bounds for each variable\n",
    "x0_bounds = (5000, 15000)  # Savings between $5,000 and $15,000\n",
    "x1_bounds = (0, None)      # No explicit upper bound on bonds\n",
    "x2_bounds = (10000, None)  # At least $10,000 in stocks\n",
    "bounds = [x0_bounds, x1_bounds, x2_bounds]\n",
    "# Run the linear program\n",
    "\n",
    "result = linprog(c, A_ub=A, b_ub=b, bounds=bounds, method='highs')\n",
    "\n",
    "if result.success:\n",
    "    print(\"Optimization was successful\")\n",
    "    print(f\"Savings (s) = ${result.x[0]:,.2f}\")\n",
    "    print(f\"Bonds (b) = ${result.x[1]:,.2f}\")\n",
    "    print(f\"Stocks (k) = ${result.x[2]:,.2f}\")\n",
    "    print(f\"Total Return = ${-result.fun:,.2f}\")\n",
    "else:\n",
    "    print(\"Optimization was not successful. Reason:\", result.message)"
   ]
  },
  {
   "cell_type": "code",
   "execution_count": 3,
   "metadata": {},
   "outputs": [],
   "source": [
    "# L, B, P\n",
    "c = np.array([-0.07, -0.09, -0.14])\n",
    "\n",
    "Aeq1 = [-1, -1, -1]\n",
    "Aeq2 = [1, 1, 1]\n",
    "\n",
    "beq1 = 0\n",
    "beq2 = 40000"
   ]
  },
  {
   "cell_type": "markdown",
   "metadata": {},
   "source": [
    "# Fix P+B+L <= 40000 and omit R >= 5000 since that will be apparent from the final solution"
   ]
  },
  {
   "cell_type": "code",
   "execution_count": 4,
   "metadata": {},
   "outputs": [],
   "source": [
    "# P <= 10000 not here\n",
    "value1 = linprog(c, A_ub = [Aeq1, Aeq2], b_ub=[beq1, beq2], bounds = [(5000, 15000), (0, None), (0, None)])\n",
    "# P <= B+L not here\n",
    "value2 = linprog(c, A_ub = [Aeq2], b_ub=[beq2], bounds = [(5000, 15000), (0, None), (10000, None)])\n",
    "# 5000 <= L <= 15000 not here\n",
    "value3 = linprog(c, A_ub = [Aeq1, Aeq2], b_ub=[beq1, beq2], bounds = [(0, None), (0, None), (10000, None)])"
   ]
  },
  {
   "cell_type": "code",
   "execution_count": 5,
   "metadata": {},
   "outputs": [
    {
     "name": "stdout",
     "output_type": "stream",
     "text": [
      "        message: Optimization terminated successfully. (HiGHS Status 7: Optimal)\n",
      "        success: True\n",
      "         status: 0\n",
      "            fun: -5250.000000000001\n",
      "              x: [ 5.000e+03  0.000e+00  3.500e+04]\n",
      "            nit: 0\n",
      "          lower:  residual: [ 0.000e+00  0.000e+00  3.500e+04]\n",
      "                 marginals: [ 7.000e-02  5.000e-02  0.000e+00]\n",
      "          upper:  residual: [ 1.000e+04        inf        inf]\n",
      "                 marginals: [ 0.000e+00  0.000e+00  0.000e+00]\n",
      "          eqlin:  residual: []\n",
      "                 marginals: []\n",
      "        ineqlin:  residual: [ 4.000e+04  0.000e+00]\n",
      "                 marginals: [-0.000e+00 -1.400e-01]\n",
      " mip_node_count: 0\n",
      " mip_dual_bound: 0.0\n",
      "        mip_gap: 0.0\n",
      "        message: Optimization terminated successfully. (HiGHS Status 7: Optimal)\n",
      "        success: True\n",
      "         status: 0\n",
      "            fun: -5250.000000000001\n",
      "              x: [ 5.000e+03  0.000e+00  3.500e+04]\n",
      "            nit: 0\n",
      "          lower:  residual: [ 0.000e+00  0.000e+00  2.500e+04]\n",
      "                 marginals: [ 7.000e-02  5.000e-02  0.000e+00]\n",
      "          upper:  residual: [ 1.000e+04        inf        inf]\n",
      "                 marginals: [ 0.000e+00  0.000e+00  0.000e+00]\n",
      "          eqlin:  residual: []\n",
      "                 marginals: []\n",
      "        ineqlin:  residual: [ 0.000e+00]\n",
      "                 marginals: [-1.400e-01]\n",
      " mip_node_count: 0\n",
      " mip_dual_bound: 0.0\n",
      "        mip_gap: 0.0\n",
      "        message: Optimization terminated successfully. (HiGHS Status 7: Optimal)\n",
      "        success: True\n",
      "         status: 0\n",
      "            fun: -5600.000000000001\n",
      "              x: [ 0.000e+00  0.000e+00  4.000e+04]\n",
      "            nit: 0\n",
      "          lower:  residual: [ 0.000e+00  0.000e+00  3.000e+04]\n",
      "                 marginals: [ 7.000e-02  5.000e-02  0.000e+00]\n",
      "          upper:  residual: [       inf        inf        inf]\n",
      "                 marginals: [ 0.000e+00  0.000e+00  0.000e+00]\n",
      "          eqlin:  residual: []\n",
      "                 marginals: []\n",
      "        ineqlin:  residual: [ 4.000e+04  0.000e+00]\n",
      "                 marginals: [-0.000e+00 -1.400e-01]\n",
      " mip_node_count: 0\n",
      " mip_dual_bound: 0.0\n",
      "        mip_gap: 0.0\n"
     ]
    }
   ],
   "source": [
    "print(value1)\n",
    "print(value2)\n",
    "print(value3)"
   ]
  },
  {
   "cell_type": "code",
   "execution_count": 6,
   "metadata": {},
   "outputs": [],
   "source": [
    "val1 = -1*value1.fun/(0.03*value1.x[0] + 0.02 * value1.x[1] + 0.25*value1.x[2])\n",
    "val2 = -1*value2.fun/(0.03*value2.x[0] + 0.02 * value2.x[1] + 0.25*value2.x[2])\n",
    "val3 = -1*value3.fun/(0.03*value3.x[0] + 0.02 * value3.x[1] + 0.25*value3.x[2])"
   ]
  },
  {
   "cell_type": "code",
   "execution_count": 7,
   "metadata": {},
   "outputs": [
    {
     "name": "stdout",
     "output_type": "stream",
     "text": [
      "0.5898876404494383\n",
      "0.5898876404494383\n",
      "0.56\n"
     ]
    }
   ],
   "source": [
    "print(val1)\n",
    "print(val2)\n",
    "print(val3)"
   ]
  },
  {
   "cell_type": "code",
   "execution_count": 8,
   "metadata": {},
   "outputs": [
    {
     "name": "stdout",
     "output_type": "stream",
     "text": [
      "Optimization failed: Positive directional derivative for linesearch\n"
     ]
    }
   ],
   "source": [
    "import numpy as np\n",
    "from scipy.optimize import minimize\n",
    "\n",
    "# Define the objective function (negative because we want to maximize)\n",
    "def objective(x):\n",
    "    s, b, k = x\n",
    "    return -(0.07 * s + 0.09 * b + 0.14 * k)  # Negative for maximization\n",
    "\n",
    "# Define the constraints\n",
    "constraints = [\n",
    "    {'type': 'ineq', 'fun': lambda x: 0.07 * x[0] + 0.09 * x[1] + 0.14 * x[2] - 5000},   # Constraint 1\n",
    "    {'type': 'ineq', 'fun': lambda x: x[2] - 10000},                                     # Constraint 2\n",
    "    {'type': 'ineq', 'fun': lambda x: x[0] + x[1] - x[2]},                               # Constraint 3\n",
    "    {'type': 'ineq', 'fun': lambda x: x[0] - 5000},                                      # Constraint 4 lower bound\n",
    "    {'type': 'ineq', 'fun': lambda x: 15000 - x[0]},                                     # Constraint 4 upper bound\n",
    "    {'type': 'ineq', 'fun': lambda x: 40000 - x[0] - x[1] - x[2]}                        # Constraint 5\n",
    "]\n",
    "\n",
    "# Initial guess\n",
    "x0 = np.array([5000, 10000, 10000])  # Starting guess within some feasible range\n",
    "\n",
    "# Call the optimizer\n",
    "result = minimize(objective, x0, method='SLSQP', constraints=constraints)\n",
    "\n",
    "if result.success:\n",
    "    invested_savings, invested_bonds, invested_stocks = result.x\n",
    "    print(\"Optimal investment strategy:\")\n",
    "    print(f\"Savings: ${invested_savings:.2f}\")\n",
    "    print(f\"Bonds: ${invested_bonds:.2f}\")\n",
    "    print(f\"Stocks: ${invested_stocks:.2f}\")\n",
    "    print(f\"Expected yearly return: ${-result.fun:.2f}\")\n",
    "else:\n",
    "    print(\"Optimization failed:\", result.message)\n"
   ]
  },
  {
   "cell_type": "code",
   "execution_count": 9,
   "metadata": {},
   "outputs": [
    {
     "name": "stdout",
     "output_type": "stream",
     "text": [
      "Optimization was not successful. Reason: The problem is infeasible. (HiGHS Status 8: model_status is Infeasible; primal_status is At lower/fixed bound)\n"
     ]
    }
   ],
   "source": [
    "import numpy as np\n",
    "from scipy.optimize import linprog\n",
    "\n",
    "# Coefficients of the objective function (negative because linprog does minimization)\n",
    "c = [-0.07, -0.09, -0.14]\n",
    "\n",
    "# Coefficients for the inequality constraints\n",
    "A = [\n",
    "    [-0.07, -0.09, -0.14],  # Return at least $5000\n",
    "    [0, 0, -1],             # At least $10000 in stocks\n",
    "    [1, 1, -1],             # Stocks <= savings + bonds\n",
    "    [1, 0, 0],              # Savings at least $5000 (lower bound handled by bounds)\n",
    "    [1, 0, 0],              # Savings at most $15000 (upper bound handled by bounds)\n",
    "    [1, 1, 1]               # Total investment <= $40000\n",
    "]\n",
    "\n",
    "b = [\n",
    "    -5000,  # Return at least $5000\n",
    "    -10000, # At least $10000 in stocks\n",
    "    0,      # Stocks <= savings + bonds\n",
    "    -5000,  # Savings at least $5000\n",
    "    15000,  # Savings at most $15000 (This will be handled by bounds)\n",
    "    40000   # Total investment <= $40000\n",
    "]\n",
    "\n",
    "# Bounds for each variable\n",
    "x0_bounds = (5000, 15000)  # Savings between $5,000 and $15,000\n",
    "x1_bounds = (0, None)      # No explicit upper bound on bonds\n",
    "x2_bounds = (10000, None)  # At least $10,000 in stocks\n",
    "\n",
    "# Run the linear program\n",
    "result = linprog(c, A_ub=A, b_ub=b, bounds=[x0_bounds, x1_bounds, x2_bounds], method='highs')\n",
    "\n",
    "if result.success:\n",
    "    print(\"Result of the optimization:\")\n",
    "    print(f\"Savings (s) = ${result.x[0]:,.2f}\")\n",
    "    print(f\"Bonds (b) = ${result.x[1]:,.2f}\")\n",
    "    print(f\"Stocks (k) = ${result.x[2]:,.2f}\")\n",
    "    print(f\"Total Return = ${-result.fun:,.2f}\")\n",
    "else:\n",
    "    print(\"Optimization was not successful. Reason:\", result.message)\n"
   ]
  },
  {
   "cell_type": "markdown",
   "metadata": {},
   "source": [
    "# Brute-force method"
   ]
  },
  {
   "cell_type": "code",
   "execution_count": 31,
   "metadata": {},
   "outputs": [
    {
     "ename": "KeyboardInterrupt",
     "evalue": "",
     "output_type": "error",
     "traceback": [
      "\u001b[0;31m---------------------------------------------------------------------------\u001b[0m",
      "\u001b[0;31mKeyboardInterrupt\u001b[0m                         Traceback (most recent call last)",
      "Cell \u001b[0;32mIn[31], line 31\u001b[0m\n\u001b[1;32m     26\u001b[0m                 current_return \u001b[38;5;241m=\u001b[39m (return_on_savings \u001b[38;5;241m*\u001b[39m savings \u001b[38;5;241m+\u001b[39m\n\u001b[1;32m     27\u001b[0m                                   return_on_bonds \u001b[38;5;241m*\u001b[39m bonds \u001b[38;5;241m+\u001b[39m\n\u001b[1;32m     28\u001b[0m                                   return_on_stocks \u001b[38;5;241m*\u001b[39m stocks)\n\u001b[1;32m     30\u001b[0m                 \u001b[38;5;66;03m# Update the maximum return found so far\u001b[39;00m\n\u001b[0;32m---> 31\u001b[0m                 \u001b[38;5;28;01mif\u001b[39;00m current_return \u001b[38;5;241m>\u001b[39m max_return:\n\u001b[1;32m     32\u001b[0m                     max_return \u001b[38;5;241m=\u001b[39m current_return\n\u001b[1;32m     34\u001b[0m \u001b[38;5;66;03m# Output the maximum return\u001b[39;00m\n",
      "\u001b[0;31mKeyboardInterrupt\u001b[0m: "
     ]
    }
   ],
   "source": [
    "# Initialize variables for maximum return tracking\n",
    "max_return = 0\n",
    "min_bonds = 0\n",
    "temp = 0\n",
    "\n",
    "# Constants for returns\n",
    "return_on_savings = 0.07\n",
    "return_on_bonds = 0.09\n",
    "return_on_stocks = 0.14\n",
    "\n",
    "# Loop through possible investments in stocks starting from the minimum requirement\n",
    "for stocks in range(10000, 20001):\n",
    "    # Loop through possible investments in savings within the allowed range\n",
    "    for savings in range(5000, 15001):\n",
    "        # Calculate the minimum and maximum possible investments in bonds based on the given constraints\n",
    "        min_bonds = stocks - savings\n",
    "        if temp < 0:\n",
    "            min_bonds =0\n",
    "        # min_bonds = max(temp, 0)  # Stocks should not exceed savings + bonds\n",
    "        max_bonds = 40000 - stocks - savings  # Total investment should not exceed $40000\n",
    "\n",
    "        # Ensure the bounds for bonds are valid\n",
    "        if min_bonds <= max_bonds:\n",
    "            for bonds in range(min_bonds, max_bonds + 1):\n",
    "                # Calculate the return based on current investments\n",
    "                current_return = (return_on_savings * savings +\n",
    "                                  return_on_bonds * bonds +\n",
    "                                  return_on_stocks * stocks)\n",
    "\n",
    "                # Update the maximum return found so far\n",
    "                if current_return > max_return:\n",
    "                    max_return = current_return\n",
    "\n",
    "# Output the maximum return\n",
    "print(f\"The maximum return is ${max_return:.2f}\")\n"
   ]
  },
  {
   "cell_type": "code",
   "execution_count": 22,
   "metadata": {},
   "outputs": [
    {
     "data": {
      "image/png": "[encoded data removed]",
      "text/plain": [
       "<Figure size 1000x600 with 1 Axes>"
      ]
     },
     "metadata": {},
     "output_type": "display_data"
    }
   ],
   "source": [
    "import numpy as np\n",
    "import matplotlib.pyplot as plt\n",
    "\n",
    "# Define the range for savings (s)\n",
    "s = np.linspace(5000, 15000, 400)\n",
    "\n",
    "# Assume bonds investment (b)\n",
    "b = 5000\n",
    "\n",
    "# Constraints\n",
    "k_min = np.full_like(s, 10000)  # k >= 10000\n",
    "k_max = s + b  # k <= s + b\n",
    "total_investment_max = 40000 - s - b  # s + b + k <= 40000, solving for k\n",
    "\n",
    "# Set up the plot\n",
    "plt.figure(figsize=(10, 6))\n",
    "\n",
    "# Plotting each constraint\n",
    "plt.fill_between(s, k_min, k_max, where=(k_max <= total_investment_max), color='gray', alpha=0.5, label='Feasible region (Stocks not exceeding savings + bonds)')\n",
    "plt.fill_between(s, k_min, total_investment_max, where=(total_investment_max <= k_max), color='gray', alpha=0.5)\n",
    "\n",
    "# Adding constraint lines for clarity\n",
    "plt.plot(s, k_max, label='k = s + b', linestyle='--', color='blue')\n",
    "plt.plot(s, total_investment_max, label='s + b + k = 40000', linestyle='--', color='red')\n",
    "plt.plot(s, k_min, label='k = 10000', linestyle='--', color='green')\n",
    "\n",
    "# Labeling axes\n",
    "plt.xlabel('Savings ($s$)')\n",
    "plt.ylabel('Stocks ($k$)')\n",
    "plt.title('Feasible Region for Investment Problem')\n",
    "plt.legend()\n",
    "\n",
    "# Show the plot\n",
    "plt.show()\n"
   ]
  }
 ],
 "metadata": {
  "kernelspec": {
   "display_name": "Python 3",
   "language": "python",
   "name": "python3"
  },
  "language_info": {
   "codemirror_mode": {
    "name": "ipython",
    "version": 3
   },
   "file_extension": ".py",
   "mimetype": "text/x-python",
   "name": "python",
   "nbconvert_exporter": "python",
   "pygments_lexer": "ipython3",
   "version": "3.10.12"
  }
 },
 "nbformat": 4,
 "nbformat_minor": 2
}
